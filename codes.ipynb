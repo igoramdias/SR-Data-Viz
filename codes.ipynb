{
 "cells": [
  {
   "cell_type": "code",
   "execution_count": null,
   "metadata": {},
   "outputs": [],
   "source": [
    "# Codigo para Media dos Mais Caros e Mais Baratos ANP em SP e RJ\n",
    "# Realizado: Media ponderada para cada combustivel de cada estado\n",
    "\n",
    "comb = ['diesel_rj', 'diesel_sp', 'diesel_s10_rj', 'diesel_s10_sp', \n",
    "        'etanol_rj', 'etanol_sp', 'gasol_adit_rj', 'gasol_adit_sp', \n",
    "        'gasolina_sp', 'gasolina_rj', 'glp_rj', 'glp_sp', 'gnv_rj', 'gnv_sp']\n",
    "\n",
    "data = {'Diesel': [], 'Diesel S10': [], 'Etanol': [], 'Gasolina Adit': [], 'Gasolina': [], 'GLP': [], 'GNV': []}\n",
    "data_keys = list(data.keys())\n",
    "\n",
    "url = 'https://www.primetalkdata.com/datacenter/combustiveis/'\n",
    "\n",
    "for type in ['mais_caro/', 'mais_barato/']:\n",
    "    date = requests.get(url + type).text.split('<a href=\"')[-1][:10]\n",
    "    \n",
    "    for idx in range(len(comb)):\n",
    "        auxDF = pd.DataFrame([elem.split(',') for elem in requests.get(url + type + date + '_' + comb[idx] + '.csv').text.split('\\r\\n')])\n",
    "        auxDF.columns = auxDF.iloc[0]\n",
    "        auxDF.drop(auxDF.index[0], inplace=True)\n",
    "        auxDF.dropna(inplace=True)\n",
    "\n",
    "        val = auxDF[auxDF['DATA INICIAL'] == auxDF['DATA INICIAL'].iloc[-1]].iloc[:,-1:].astype(float).values\n",
    "        wgt = auxDF[auxDF['DATA INICIAL'] == auxDF['DATA INICIAL'].iloc[-1]].iloc[:,-3:-2].astype(int).values\n",
    "\n",
    "        data[data_keys[idx//2]].append(round(np.average(val, weights=wgt), 2))\n",
    "\n",
    "pd.DataFrame(data, index=pd.MultiIndex.from_tuples([('RJ', 'Mais Caro'), ('RJ', 'Mais Barato'), ('SP', 'Mais Caro'), ('SP', 'Mais Barato')]))"
   ]
  },
  {
   "cell_type": "code",
   "execution_count": null,
   "metadata": {},
   "outputs": [],
   "source": [
    "# Codigo para 5 Maiores Altas e 5 Maiores Quedas pela CEAGESP\n",
    "# Realizado: 5 maiores altas e baixas percentuais entre todos os setores \n",
    "\n",
    "url = 'https://www.primetalkdata.com/datacenter/ceagesp/2023/'\n",
    "date = requests.get(url).text.split('<a href=\"')[-1][:10]\n",
    "\n",
    "data = {'Tipo': [], 'Setor': [], 'Variação': [], 'Item': [], 'Percentual': []}\n",
    "\n",
    "for type in ['alta', 'baixa']:\n",
    "    resp = requests.get(url + date + '_ceagesp.csv')\n",
    "    resp.encoding = resp.apparent_encoding\n",
    "    auxDF = pd.DataFrame([elem.split(',') for elem in resp.text.split('\\r\\n')])\n",
    "    auxDF.columns = auxDF.iloc[0]\n",
    "    auxDF.drop(auxDF.index[0], inplace=True)\n",
    "    auxDF.dropna(inplace=True)\n",
    "\n",
    "    auxDF['pct_' + type] = pd.to_numeric(auxDF['pct_' + type], errors='coerce')\n",
    "    auxDF = auxDF.sort_values('pct_' + type, ascending=(type=='baixa')).head(5)\n",
    "    \n",
    "    data['Tipo'].extend(['Maiores Altas']*5 if type == 'alta' else ['Maiores Baixas']*5) \n",
    "    data['Setor'].extend(auxDF.setor.values)\n",
    "    data['Variação'].extend(auxDF.variacao.values)\n",
    "    data['Item'].extend(auxDF['top_' + type + 's'].values)\n",
    "    data['Percentual'].extend(auxDF['pct_' + type].values) \n",
    "\n",
    "pd.DataFrame(data).set_index(['Tipo', 'Setor'])"
   ]
  }
 ],
 "metadata": {
  "language_info": {
   "name": "python"
  },
  "orig_nbformat": 4
 },
 "nbformat": 4,
 "nbformat_minor": 2
}
